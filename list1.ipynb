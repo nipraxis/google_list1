{
 "cells": [
  {
   "cell_type": "markdown",
   "id": "0ee3f92a",
   "metadata": {},
   "source": [
    "# Basic list exercises\n",
    "\n",
    "Copyright 2010 Google Inc. Licensed under the Apache License, Version 2.0\n",
    "<http://www.apache.org/licenses/LICENSE-2.0>"
   ]
  },
  {
   "cell_type": "markdown",
   "id": "28c3b68c",
   "metadata": {},
   "source": [
    "Google's Python Class:\n",
    "<http://code.google.com/edu/languages/google-python-class/>"
   ]
  },
  {
   "cell_type": "markdown",
   "id": "becdeda8",
   "metadata": {},
   "source": [
    "## Introduction"
   ]
  },
  {
   "cell_type": "markdown",
   "id": "04a18cf5",
   "metadata": {},
   "source": [
    "Fill in the code for the functions below.\n",
    "\n",
    "When you have filled in the code for the function, run the tests for the function in the cell below the function.\n",
    "\n",
    "The tests call the function with a few different inputs.  If the function is not correct, they will give an `AssertionError`.  If the function appears to be correct, the test cell will run without error.\n",
    "\n",
    "The starter code for each function includes a `return` which is just a\n",
    "placeholder for your code.\n",
    "\n",
    "It's OK if you do not complete all the functions, and there are some\n",
    "additional functions to try in the `google_list2` exercise."
   ]
  },
  {
   "cell_type": "markdown",
   "id": "3045290a",
   "metadata": {},
   "source": [
    "## match_ends\n",
    "Given a list of strings, return the count of the number of strings where the\n",
    "string length is 2 or more and the first and last chars of the string are the\n",
    "same.\n",
    "\n",
    "**Hint**: Python does not have a ++ operator, but += works."
   ]
  },
  {
   "cell_type": "code",
   "execution_count": null,
   "id": "55b14c5f",
   "metadata": {},
   "outputs": [],
   "source": [
    "def match_ends(words):\n",
    "    #- +++your code here+++\n",
    "    return"
   ]
  },
  {
   "cell_type": "code",
   "execution_count": null,
   "id": "19660991",
   "metadata": {},
   "outputs": [],
   "source": [
    "# Run this cell to test your function\n",
    "assert match_ends(['aba', 'xyz', 'aa', 'x', 'bbb']) == 3\n",
    "assert match_ends(['', 'x', 'xy', 'xyx', 'xx']) == 2\n",
    "assert match_ends(['aaa', 'be', 'abc', 'hello']) == 1"
   ]
  },
  {
   "cell_type": "markdown",
   "id": "b2576a9f",
   "metadata": {},
   "source": [
    "## front_x\n",
    "\n",
    "Given a list of strings, return a list with the strings\n",
    "in sorted order, except group all the strings that begin with 'x' first.\n",
    "e.g. ['mix', 'xyz', 'apple', 'xanadu', 'aardvark'] yields\n",
    "['xanadu', 'xyz', 'aardvark', 'apple', 'mix']\n",
    "\n",
    "**Hint**: this can be done by making 2 lists and sorting each of them\n",
    "before combining them."
   ]
  },
  {
   "cell_type": "code",
   "execution_count": null,
   "id": "ea17bfaf",
   "metadata": {},
   "outputs": [],
   "source": [
    "def front_x(words):\n",
    "    #- +++your code here+++\n",
    "    return"
   ]
  },
  {
   "cell_type": "code",
   "execution_count": null,
   "id": "f667a2f3",
   "metadata": {},
   "outputs": [],
   "source": [
    "# Run this cell to test your function\n",
    "assert front_x(['bbb', 'ccc', 'axx', 'xzz', 'xaa']) == \\\n",
    "     ['xaa', 'xzz', 'axx', 'bbb', 'ccc']\n",
    "assert front_x(['ccc', 'bbb', 'aaa', 'xcc', 'xaa']) == \\\n",
    "     ['xaa', 'xcc', 'aaa', 'bbb', 'ccc']\n",
    "assert front_x(['mix', 'xyz', 'apple', 'xanadu', 'aardvark']) == \\\n",
    "     ['xanadu', 'xyz', 'aardvark', 'apple', 'mix']"
   ]
  },
  {
   "cell_type": "markdown",
   "id": "56af3f62",
   "metadata": {},
   "source": [
    "## sort_last\n",
    "\n",
    "Given a list of non-empty tuples, return a list sorted in increasing\n",
    "order by the last element in each tuple.\n",
    "e.g. [(1, 7), (1, 3), (3, 4, 5), (2, 2)] yields\n",
    "[(2, 2), (1, 3), (3, 4, 5), (1, 7)]\n",
    "Hint: use a custom key= function to extract the last element form each tuple."
   ]
  },
  {
   "cell_type": "code",
   "execution_count": null,
   "id": "33c5401c",
   "metadata": {},
   "outputs": [],
   "source": [
    "def sort_last(tuples):\n",
    "    #- +++your code here+++\n",
    "    return"
   ]
  },
  {
   "cell_type": "code",
   "execution_count": null,
   "id": "fdf13426",
   "metadata": {},
   "outputs": [],
   "source": [
    "# Run this cell to test your function\n",
    "assert sort_last([(1, 3), (3, 2), (2, 1)]) == \\\n",
    "     [(2, 1), (3, 2), (1, 3)]\n",
    "assert sort_last([(2, 3), (1, 2), (3, 1)]) == \\\n",
    "     [(3, 1), (1, 2), (2, 3)]\n",
    "assert sort_last([(1, 7), (1, 3), (3, 4, 5), (2, 2)]) == \\\n",
    "     [(2, 2), (1, 3), (3, 4, 5), (1, 7)]"
   ]
  }
 ],
 "metadata": {
  "jupytext": {
   "cell_metadata_filter": "-all",
   "notebook_metadata_filter": "all,-language_info",
   "split_at_heading": true,
   "text_representation": {
    "extension": ".Rmd",
    "format_name": "rmarkdown",
    "format_version": "1.2",
    "jupytext_version": "1.13.7"
   }
  },
  "kernelspec": {
   "display_name": "Python 3",
   "language": "python",
   "name": "python3"
  }
 },
 "nbformat": 4,
 "nbformat_minor": 5
}
